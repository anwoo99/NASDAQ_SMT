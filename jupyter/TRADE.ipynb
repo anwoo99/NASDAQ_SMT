{
 "cells": [
  {
   "cell_type": "code",
   "execution_count": 3,
   "id": "19e9f8b5-b591-4b2d-a700-35786292218e",
   "metadata": {},
   "outputs": [
    {
     "name": "stderr",
     "output_type": "stream",
     "text": [
      "/tmp/ipykernel_488699/3353734925.py:1: DeprecationWarning: \n",
      "Pyarrow will become a required dependency of pandas in the next major release of pandas (pandas 3.0),\n",
      "(to allow more performant data types, such as the Arrow string type, and better interoperability with other libraries)\n",
      "but was not found to be installed on your system.\n",
      "If this would cause problems for you,\n",
      "please provide us feedback at https://github.com/pandas-dev/pandas/issues/54466\n",
      "        \n",
      "  import pandas as pd\n",
      "/tmp/ipykernel_488699/3353734925.py:4: DeprecationWarning: Importing display from IPython.core.display is deprecated since IPython 7.14, please import from IPython display\n",
      "  from IPython.core.display import display, HTML\n"
     ]
    },
    {
     "data": {
      "text/html": [
       "<style>.container { width:100% !important; }</style>"
      ],
      "text/plain": [
       "<IPython.core.display.HTML object>"
      ]
     },
     "metadata": {},
     "output_type": "display_data"
    }
   ],
   "source": [
    "import pandas as pd\n",
    "import dask.dataframe as dd\n",
    "from datetime import datetime, timedelta\n",
    "from IPython.core.display import display, HTML\n",
    "display(HTML(\"<style>.container { width:100% !important; }</style>\"))"
   ]
  },
  {
   "cell_type": "code",
   "execution_count": 4,
   "id": "a6cde8e3-ed6f-4c6f-967f-829f544ab08e",
   "metadata": {},
   "outputs": [],
   "source": [
    "df = pd.read_csv('/mdfsvc/fep/log/Smart/OSMT_TRADE-4.csv')"
   ]
  },
  {
   "cell_type": "code",
   "execution_count": 5,
   "id": "17be9415-dcb7-4e6a-a64c-75cba9626a8d",
   "metadata": {},
   "outputs": [
    {
     "data": {
      "text/html": [
       "<div>\n",
       "<style scoped>\n",
       "    .dataframe tbody tr th:only-of-type {\n",
       "        vertical-align: middle;\n",
       "    }\n",
       "\n",
       "    .dataframe tbody tr th {\n",
       "        vertical-align: top;\n",
       "    }\n",
       "\n",
       "    .dataframe thead th {\n",
       "        text-align: right;\n",
       "    }\n",
       "</style>\n",
       "<table border=\"1\" class=\"dataframe\">\n",
       "  <thead>\n",
       "    <tr style=\"text-align: right;\">\n",
       "      <th></th>\n",
       "      <th>Date</th>\n",
       "      <th>Time</th>\n",
       "      <th>Message Type</th>\n",
       "      <th>Protocol ID</th>\n",
       "      <th>Channel Index</th>\n",
       "      <th>Message Flags</th>\n",
       "      <th>Upstream Sequence Number</th>\n",
       "      <th>Upstream Nanos</th>\n",
       "      <th>Instrument Locate</th>\n",
       "      <th>Market Center Locate</th>\n",
       "      <th>...</th>\n",
       "      <th>Size</th>\n",
       "      <th>Price Flags</th>\n",
       "      <th>Eligibility Flags</th>\n",
       "      <th>Report Flags</th>\n",
       "      <th>Change Flags</th>\n",
       "      <th>Cancel Flags</th>\n",
       "      <th>Upstream Condition Detail</th>\n",
       "      <th>Trade Report Detail</th>\n",
       "      <th>Extended Report Flag</th>\n",
       "      <th>Raw Data</th>\n",
       "    </tr>\n",
       "  </thead>\n",
       "  <tbody>\n",
       "    <tr>\n",
       "      <th>0</th>\n",
       "      <td>02/15</td>\n",
       "      <td>21:29:40</td>\n",
       "      <td>0x70</td>\n",
       "      <td>52</td>\n",
       "      <td>73</td>\n",
       "      <td>0x00</td>\n",
       "      <td>36796</td>\n",
       "      <td>3280640</td>\n",
       "      <td>13366</td>\n",
       "      <td>786432</td>\n",
       "      <td>...</td>\n",
       "      <td>248</td>\n",
       "      <td>0x00</td>\n",
       "      <td>0x00</td>\n",
       "      <td>0x0A01</td>\n",
       "      <td>0x0F</td>\n",
       "      <td>0x00</td>\n",
       "      <td>NaN</td>\n",
       "      <td>0</td>\n",
       "      <td>0x00000000</td>\n",
       "      <td>70 34 49 00 00 00 8F BC 00 32 0F 00 00 00 34 3...</td>\n",
       "    </tr>\n",
       "    <tr>\n",
       "      <th>1</th>\n",
       "      <td>02/15</td>\n",
       "      <td>21:29:40</td>\n",
       "      <td>0x70</td>\n",
       "      <td>52</td>\n",
       "      <td>73</td>\n",
       "      <td>0x00</td>\n",
       "      <td>36800</td>\n",
       "      <td>3311104</td>\n",
       "      <td>13049</td>\n",
       "      <td>786432</td>\n",
       "      <td>...</td>\n",
       "      <td>248</td>\n",
       "      <td>0x00</td>\n",
       "      <td>0x00</td>\n",
       "      <td>0x0A01</td>\n",
       "      <td>0x0F</td>\n",
       "      <td>0x00</td>\n",
       "      <td>NaN</td>\n",
       "      <td>0</td>\n",
       "      <td>0x00000000</td>\n",
       "      <td>70 34 49 00 00 00 8F C0 00 32 86 00 00 00 32 F...</td>\n",
       "    </tr>\n",
       "  </tbody>\n",
       "</table>\n",
       "<p>2 rows × 23 columns</p>\n",
       "</div>"
      ],
      "text/plain": [
       "    Date      Time Message Type  Protocol ID  Channel Index Message Flags  \\\n",
       "0  02/15  21:29:40         0x70           52             73          0x00   \n",
       "1  02/15  21:29:40         0x70           52             73          0x00   \n",
       "\n",
       "   Upstream Sequence Number  Upstream Nanos  Instrument Locate  \\\n",
       "0                     36796         3280640              13366   \n",
       "1                     36800         3311104              13049   \n",
       "\n",
       "   Market Center Locate  ...  Size  Price Flags  Eligibility Flags  \\\n",
       "0                786432  ...   248         0x00               0x00   \n",
       "1                786432  ...   248         0x00               0x00   \n",
       "\n",
       "   Report Flags Change Flags Cancel Flags Upstream Condition Detail  \\\n",
       "0        0x0A01         0x0F         0x00                       NaN   \n",
       "1        0x0A01         0x0F         0x00                       NaN   \n",
       "\n",
       "  Trade Report Detail Extended Report Flag  \\\n",
       "0                   0           0x00000000   \n",
       "1                   0           0x00000000   \n",
       "\n",
       "                                            Raw Data  \n",
       "0  70 34 49 00 00 00 8F BC 00 32 0F 00 00 00 34 3...  \n",
       "1  70 34 49 00 00 00 8F C0 00 32 86 00 00 00 32 F...  \n",
       "\n",
       "[2 rows x 23 columns]"
      ]
     },
     "execution_count": 5,
     "metadata": {},
     "output_type": "execute_result"
    }
   ],
   "source": [
    "\"\"\"\n",
    "Two Sided NBBO Update - Short Form(0x60)\n",
    "\"\"\"\n",
    "df[(df[\"Message Type\"] == \"0x70\")].head(2)"
   ]
  },
  {
   "cell_type": "code",
   "execution_count": 6,
   "id": "d6757de3-838c-4590-94f2-434865bb459f",
   "metadata": {},
   "outputs": [
    {
     "data": {
      "text/html": [
       "<div>\n",
       "<style scoped>\n",
       "    .dataframe tbody tr th:only-of-type {\n",
       "        vertical-align: middle;\n",
       "    }\n",
       "\n",
       "    .dataframe tbody tr th {\n",
       "        vertical-align: top;\n",
       "    }\n",
       "\n",
       "    .dataframe thead th {\n",
       "        text-align: right;\n",
       "    }\n",
       "</style>\n",
       "<table border=\"1\" class=\"dataframe\">\n",
       "  <thead>\n",
       "    <tr style=\"text-align: right;\">\n",
       "      <th></th>\n",
       "      <th>Date</th>\n",
       "      <th>Time</th>\n",
       "      <th>Message Type</th>\n",
       "      <th>Protocol ID</th>\n",
       "      <th>Channel Index</th>\n",
       "      <th>Message Flags</th>\n",
       "      <th>Upstream Sequence Number</th>\n",
       "      <th>Upstream Nanos</th>\n",
       "      <th>Instrument Locate</th>\n",
       "      <th>Market Center Locate</th>\n",
       "      <th>...</th>\n",
       "      <th>Size</th>\n",
       "      <th>Price Flags</th>\n",
       "      <th>Eligibility Flags</th>\n",
       "      <th>Report Flags</th>\n",
       "      <th>Change Flags</th>\n",
       "      <th>Cancel Flags</th>\n",
       "      <th>Upstream Condition Detail</th>\n",
       "      <th>Trade Report Detail</th>\n",
       "      <th>Extended Report Flag</th>\n",
       "      <th>Raw Data</th>\n",
       "    </tr>\n",
       "  </thead>\n",
       "  <tbody>\n",
       "  </tbody>\n",
       "</table>\n",
       "<p>0 rows × 23 columns</p>\n",
       "</div>"
      ],
      "text/plain": [
       "Empty DataFrame\n",
       "Columns: [Date, Time, Message Type, Protocol ID, Channel Index, Message Flags, Upstream Sequence Number, Upstream Nanos, Instrument Locate, Market Center Locate, Trade ID, Price Denominator, Price, Size, Price Flags, Eligibility Flags, Report Flags, Change Flags, Cancel Flags, Upstream Condition Detail, Trade Report Detail, Extended Report Flag, Raw Data]\n",
       "Index: []\n",
       "\n",
       "[0 rows x 23 columns]"
      ]
     },
     "execution_count": 6,
     "metadata": {},
     "output_type": "execute_result"
    }
   ],
   "source": [
    "\"\"\"\n",
    "Two Sided NBBO Update - Short Form(0x60)\n",
    "\"\"\"\n",
    "df[(df[\"Message Type\"] == \"0x71\")].head(2)"
   ]
  },
  {
   "cell_type": "code",
   "execution_count": 7,
   "id": "759c632f-1246-4fac-8cc1-aa237e14ba48",
   "metadata": {},
   "outputs": [
    {
     "data": {
      "text/html": [
       "<div>\n",
       "<style scoped>\n",
       "    .dataframe tbody tr th:only-of-type {\n",
       "        vertical-align: middle;\n",
       "    }\n",
       "\n",
       "    .dataframe tbody tr th {\n",
       "        vertical-align: top;\n",
       "    }\n",
       "\n",
       "    .dataframe thead th {\n",
       "        text-align: right;\n",
       "    }\n",
       "</style>\n",
       "<table border=\"1\" class=\"dataframe\">\n",
       "  <thead>\n",
       "    <tr style=\"text-align: right;\">\n",
       "      <th></th>\n",
       "      <th>Date</th>\n",
       "      <th>Time</th>\n",
       "      <th>Message Type</th>\n",
       "      <th>Protocol ID</th>\n",
       "      <th>Channel Index</th>\n",
       "      <th>Message Flags</th>\n",
       "      <th>Upstream Sequence Number</th>\n",
       "      <th>Upstream Nanos</th>\n",
       "      <th>Instrument Locate</th>\n",
       "      <th>Market Center Locate</th>\n",
       "      <th>...</th>\n",
       "      <th>Size</th>\n",
       "      <th>Price Flags</th>\n",
       "      <th>Eligibility Flags</th>\n",
       "      <th>Report Flags</th>\n",
       "      <th>Change Flags</th>\n",
       "      <th>Cancel Flags</th>\n",
       "      <th>Upstream Condition Detail</th>\n",
       "      <th>Trade Report Detail</th>\n",
       "      <th>Extended Report Flag</th>\n",
       "      <th>Raw Data</th>\n",
       "    </tr>\n",
       "  </thead>\n",
       "  <tbody>\n",
       "  </tbody>\n",
       "</table>\n",
       "<p>0 rows × 23 columns</p>\n",
       "</div>"
      ],
      "text/plain": [
       "Empty DataFrame\n",
       "Columns: [Date, Time, Message Type, Protocol ID, Channel Index, Message Flags, Upstream Sequence Number, Upstream Nanos, Instrument Locate, Market Center Locate, Trade ID, Price Denominator, Price, Size, Price Flags, Eligibility Flags, Report Flags, Change Flags, Cancel Flags, Upstream Condition Detail, Trade Report Detail, Extended Report Flag, Raw Data]\n",
       "Index: []\n",
       "\n",
       "[0 rows x 23 columns]"
      ]
     },
     "execution_count": 7,
     "metadata": {},
     "output_type": "execute_result"
    }
   ],
   "source": [
    "\"\"\"\n",
    "Two Sided NBBO Update - Short Form(0x60)\n",
    "\"\"\"\n",
    "df[(df[\"Message Type\"] == \"0x72\")].head(2)"
   ]
  },
  {
   "cell_type": "code",
   "execution_count": 8,
   "id": "006bdeed-55f9-4911-85f8-4b10c51daf34",
   "metadata": {},
   "outputs": [
    {
     "data": {
      "text/html": [
       "<div>\n",
       "<style scoped>\n",
       "    .dataframe tbody tr th:only-of-type {\n",
       "        vertical-align: middle;\n",
       "    }\n",
       "\n",
       "    .dataframe tbody tr th {\n",
       "        vertical-align: top;\n",
       "    }\n",
       "\n",
       "    .dataframe thead th {\n",
       "        text-align: right;\n",
       "    }\n",
       "</style>\n",
       "<table border=\"1\" class=\"dataframe\">\n",
       "  <thead>\n",
       "    <tr style=\"text-align: right;\">\n",
       "      <th></th>\n",
       "      <th>Date</th>\n",
       "      <th>Time</th>\n",
       "      <th>Message Type</th>\n",
       "      <th>Protocol ID</th>\n",
       "      <th>Channel Index</th>\n",
       "      <th>Message Flags</th>\n",
       "      <th>Upstream Sequence Number</th>\n",
       "      <th>Upstream Nanos</th>\n",
       "      <th>Instrument Locate</th>\n",
       "      <th>Market Center Locate</th>\n",
       "      <th>...</th>\n",
       "      <th>Size</th>\n",
       "      <th>Price Flags</th>\n",
       "      <th>Eligibility Flags</th>\n",
       "      <th>Report Flags</th>\n",
       "      <th>Change Flags</th>\n",
       "      <th>Cancel Flags</th>\n",
       "      <th>Upstream Condition Detail</th>\n",
       "      <th>Trade Report Detail</th>\n",
       "      <th>Extended Report Flag</th>\n",
       "      <th>Raw Data</th>\n",
       "    </tr>\n",
       "  </thead>\n",
       "  <tbody>\n",
       "  </tbody>\n",
       "</table>\n",
       "<p>0 rows × 23 columns</p>\n",
       "</div>"
      ],
      "text/plain": [
       "Empty DataFrame\n",
       "Columns: [Date, Time, Message Type, Protocol ID, Channel Index, Message Flags, Upstream Sequence Number, Upstream Nanos, Instrument Locate, Market Center Locate, Trade ID, Price Denominator, Price, Size, Price Flags, Eligibility Flags, Report Flags, Change Flags, Cancel Flags, Upstream Condition Detail, Trade Report Detail, Extended Report Flag, Raw Data]\n",
       "Index: []\n",
       "\n",
       "[0 rows x 23 columns]"
      ]
     },
     "execution_count": 8,
     "metadata": {},
     "output_type": "execute_result"
    }
   ],
   "source": [
    "\"\"\"\n",
    "Two Sided NBBO Update - Short Form(0x60)\n",
    "\"\"\"\n",
    "df[(df[\"Message Type\"] == \"0x73\")].head(2)"
   ]
  },
  {
   "cell_type": "code",
   "execution_count": null,
   "id": "ee89fa27-e251-4173-8eff-3b3c9a393172",
   "metadata": {},
   "outputs": [],
   "source": []
  },
  {
   "cell_type": "code",
   "execution_count": null,
   "id": "2a8f4622-dbd6-4744-8d1d-16920f53cf45",
   "metadata": {},
   "outputs": [],
   "source": []
  }
 ],
 "metadata": {
  "kernelspec": {
   "display_name": "Python 3 (ipykernel)",
   "language": "python",
   "name": "python3"
  },
  "language_info": {
   "codemirror_mode": {
    "name": "ipython",
    "version": 3
   },
   "file_extension": ".py",
   "mimetype": "text/x-python",
   "name": "python",
   "nbconvert_exporter": "python",
   "pygments_lexer": "ipython3",
   "version": "3.9.18"
  }
 },
 "nbformat": 4,
 "nbformat_minor": 5
}
