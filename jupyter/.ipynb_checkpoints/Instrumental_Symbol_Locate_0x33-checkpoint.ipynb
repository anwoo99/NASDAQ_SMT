{
 "cells": [
  {
   "cell_type": "code",
   "execution_count": 14,
   "id": "828d3850-8124-44e6-8253-27d05a6e1cc5",
   "metadata": {},
   "outputs": [],
   "source": [
    "import pandas as pd\n",
    "from datetime import datetime, timedelta\n",
    "\n",
    "# row 생략 없이 출력\n",
    "pd.set_option('display.max_rows', None)\n",
    "# col 생략 없이 출력\n",
    "pd.set_option('display.max_columns', None)\n",
    "# 가로길이\n",
    "pd.set_option('display.width', 1000)"
   ]
  },
  {
   "cell_type": "code",
   "execution_count": 15,
   "id": "5bb86301-100b-4acf-926c-09ae199f3f9c",
   "metadata": {},
   "outputs": [],
   "source": [
    "df = pd.read_csv(r\"/mdfsvc/fep/log/Smart/OSMT_0x33-3.csv\", lineterminator='\\n', index_col='Date')"
   ]
  },
  {
   "cell_type": "code",
   "execution_count": 16,
   "id": "c4f1f5e0-4c64-44c1-97c2-3ffeb0a13ead",
   "metadata": {},
   "outputs": [
    {
     "data": {
      "text/plain": [
       "Date\n",
       "02/14    33 00 00 32 F1 20 20 20 20 20 20 20 20 20 02 1...\n",
       "Name: Raw Data, dtype: object"
      ]
     },
     "execution_count": 16,
     "metadata": {},
     "output_type": "execute_result"
    }
   ],
   "source": [
    "\"\"\"\n",
    "특정 Symbol 필터링\n",
    "\"\"\"\n",
    "###############################\n",
    "# 원하는 Symbol명을 입력하세요. #\n",
    "i_want_to_find = \"SPY240301C00467500\"\n",
    "###############################\n",
    "\n",
    "result_table = df[df['Symbol'].str.contains(i_want_to_find)]\n",
    "result_table[\"Raw Data\"]"
   ]
  },
  {
   "cell_type": "code",
   "execution_count": 9,
   "id": "5fdc1327-d1f1-440b-a20f-64016786ff8c",
   "metadata": {},
   "outputs": [],
   "source": [
    "unique_codes = df['Locate Code'].unique()\n",
    "unique_codes\n",
    "result_tables = {}\n",
    "\n",
    "for code in unique_codes:\n",
    "     result_tables[code] = df[(df['Locate Code'] == code) | (df['Parent Locate Code'] == code)]"
   ]
  },
  {
   "cell_type": "code",
   "execution_count": 10,
   "id": "691211a6-b9d3-42ad-ac73-df22851f4ef7",
   "metadata": {},
   "outputs": [
    {
     "data": {
      "text/html": [
       "<div>\n",
       "<style scoped>\n",
       "    .dataframe tbody tr th:only-of-type {\n",
       "        vertical-align: middle;\n",
       "    }\n",
       "\n",
       "    .dataframe tbody tr th {\n",
       "        vertical-align: top;\n",
       "    }\n",
       "\n",
       "    .dataframe thead th {\n",
       "        text-align: right;\n",
       "    }\n",
       "</style>\n",
       "<table border=\"1\" class=\"dataframe\">\n",
       "  <thead>\n",
       "    <tr style=\"text-align: right;\">\n",
       "      <th></th>\n",
       "      <th>Time</th>\n",
       "      <th>Message Type</th>\n",
       "      <th>Locate Code</th>\n",
       "      <th>Country Code</th>\n",
       "      <th>Currecny Code</th>\n",
       "      <th>MIC</th>\n",
       "      <th>Product Type</th>\n",
       "      <th>Symbol Length</th>\n",
       "      <th>Symbol</th>\n",
       "      <th>Root Symbol</th>\n",
       "      <th>Put/Call</th>\n",
       "      <th>Expiration Date</th>\n",
       "      <th>Strike Price</th>\n",
       "      <th>Parent Locate Code</th>\n",
       "      <th>Raw Data</th>\n",
       "    </tr>\n",
       "    <tr>\n",
       "      <th>Date</th>\n",
       "      <th></th>\n",
       "      <th></th>\n",
       "      <th></th>\n",
       "      <th></th>\n",
       "      <th></th>\n",
       "      <th></th>\n",
       "      <th></th>\n",
       "      <th></th>\n",
       "      <th></th>\n",
       "      <th></th>\n",
       "      <th></th>\n",
       "      <th></th>\n",
       "      <th></th>\n",
       "      <th></th>\n",
       "      <th></th>\n",
       "    </tr>\n",
       "  </thead>\n",
       "  <tbody>\n",
       "    <tr>\n",
       "      <th>02/14</th>\n",
       "      <td>09:43:13</td>\n",
       "      <td>0x33</td>\n",
       "      <td>1821</td>\n",
       "      <td>US</td>\n",
       "      <td>USD</td>\n",
       "      <td></td>\n",
       "      <td>1</td>\n",
       "      <td>3</td>\n",
       "      <td>AEO</td>\n",
       "      <td>NaN</td>\n",
       "      <td>NaN</td>\n",
       "      <td>0</td>\n",
       "      <td>0.0</td>\n",
       "      <td>0</td>\n",
       "      <td>33 00 00 07 1D 55 53 55 53 44 20 20 20 20 01 0...</td>\n",
       "    </tr>\n",
       "    <tr>\n",
       "      <th>02/14</th>\n",
       "      <td>09:43:13</td>\n",
       "      <td>0x33</td>\n",
       "      <td>1822</td>\n",
       "      <td>US</td>\n",
       "      <td>USD</td>\n",
       "      <td></td>\n",
       "      <td>23</td>\n",
       "      <td>3</td>\n",
       "      <td>AEO</td>\n",
       "      <td>NaN</td>\n",
       "      <td>NaN</td>\n",
       "      <td>0</td>\n",
       "      <td>0.0</td>\n",
       "      <td>1821</td>\n",
       "      <td>33 00 00 07 1E 55 53 55 53 44 20 20 20 20 17 0...</td>\n",
       "    </tr>\n",
       "  </tbody>\n",
       "</table>\n",
       "</div>"
      ],
      "text/plain": [
       "           Time Message Type  Locate Code Country Code Currecny Code   MIC  Product Type  Symbol Length Symbol Root Symbol Put/Call  Expiration Date  Strike Price  Parent Locate Code                                           Raw Data\n",
       "Date                                                                                                                                                                                                                                     \n",
       "02/14  09:43:13         0x33         1821           US           USD                   1              3    AEO         NaN      NaN                0           0.0                   0  33 00 00 07 1D 55 53 55 53 44 20 20 20 20 01 0...\n",
       "02/14  09:43:13         0x33         1822           US           USD                  23              3    AEO         NaN      NaN                0           0.0                1821  33 00 00 07 1E 55 53 55 53 44 20 20 20 20 17 0..."
      ]
     },
     "execution_count": 10,
     "metadata": {},
     "output_type": "execute_result"
    }
   ],
   "source": [
    "\"\"\"\n",
    "특정 Code를 가진 종목 모두 확인하기\n",
    "\"\"\"\n",
    "########################################\n",
    "# 원하는 Parente Locate Code를 입력하세요.\n",
    "i_want_to_find = 1821\n",
    "########################################\n",
    "\n",
    "result_tables[i_want_to_find]"
   ]
  }
 ],
 "metadata": {
  "kernelspec": {
   "display_name": "Python 3 (ipykernel)",
   "language": "python",
   "name": "python3"
  },
  "language_info": {
   "codemirror_mode": {
    "name": "ipython",
    "version": 3
   },
   "file_extension": ".py",
   "mimetype": "text/x-python",
   "name": "python",
   "nbconvert_exporter": "python",
   "pygments_lexer": "ipython3",
   "version": "3.9.18"
  }
 },
 "nbformat": 4,
 "nbformat_minor": 5
}
