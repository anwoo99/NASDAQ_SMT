{
 "cells": [
  {
   "cell_type": "code",
   "execution_count": 1,
   "id": "487b5637-e4da-4893-80e7-2057d60c52fe",
   "metadata": {},
   "outputs": [],
   "source": [
    "import pandas as pd\n",
    "from datetime import datetime, timedelta"
   ]
  },
  {
   "cell_type": "code",
   "execution_count": 2,
   "id": "ad3082b2-8ff4-46fd-9308-8146abb2b269",
   "metadata": {},
   "outputs": [],
   "source": [
    "pd.set_option('display.max_colwidth', None)\n",
    "pd.set_option('display.max_columns', None)\n",
    "pd.set_option('display.max_rows', None)\n",
    "df = pd.read_csv(r\"../NasdaqSMT_Csv/OSMT_0x20-4.csv\", lineterminator='\\n', index_col='Date')"
   ]
  },
  {
   "cell_type": "code",
   "execution_count": 3,
   "id": "66f487be-311f-40a1-b15d-70b751b0b18f",
   "metadata": {},
   "outputs": [
    {
     "data": {
      "text/html": [
       "<div>\n",
       "<style scoped>\n",
       "    .dataframe tbody tr th:only-of-type {\n",
       "        vertical-align: middle;\n",
       "    }\n",
       "\n",
       "    .dataframe tbody tr th {\n",
       "        vertical-align: top;\n",
       "    }\n",
       "\n",
       "    .dataframe thead th {\n",
       "        text-align: right;\n",
       "    }\n",
       "</style>\n",
       "<table border=\"1\" class=\"dataframe\">\n",
       "  <thead>\n",
       "    <tr style=\"text-align: right;\">\n",
       "      <th></th>\n",
       "      <th>Time</th>\n",
       "      <th>Message Type</th>\n",
       "      <th>Timestamp</th>\n",
       "      <th>Timestamp(Convert)</th>\n",
       "      <th>Event Code</th>\n",
       "      <th>Raw Data</th>\n",
       "    </tr>\n",
       "    <tr>\n",
       "      <th>Date</th>\n",
       "      <th></th>\n",
       "      <th></th>\n",
       "      <th></th>\n",
       "      <th></th>\n",
       "      <th></th>\n",
       "      <th></th>\n",
       "    </tr>\n",
       "  </thead>\n",
       "  <tbody>\n",
       "    <tr>\n",
       "      <th>02/01</th>\n",
       "      <td>13:19:14</td>\n",
       "      <td>0x20</td>\n",
       "      <td>195019997022</td>\n",
       "      <td>09:03:15</td>\n",
       "      <td>*NUL</td>\n",
       "      <td>20 00 00 00 2D 68 18 FF 5E 2A 4E 55 4C</td>\n",
       "    </tr>\n",
       "    <tr>\n",
       "      <th>02/01</th>\n",
       "      <td>16:25:19</td>\n",
       "      <td>0x20</td>\n",
       "      <td>70200000023022</td>\n",
       "      <td>04:30:00</td>\n",
       "      <td>*EOM</td>\n",
       "      <td>20 00 00 3F D8 B6 10 89 EE 2A 45 4F 4D</td>\n",
       "    </tr>\n",
       "  </tbody>\n",
       "</table>\n",
       "</div>"
      ],
      "text/plain": [
       "           Time Message Type       Timestamp Timestamp(Convert) Event Code  \\\n",
       "Date                                                                         \n",
       "02/01  13:19:14         0x20    195019997022           09:03:15       *NUL   \n",
       "02/01  16:25:19         0x20  70200000023022           04:30:00       *EOM   \n",
       "\n",
       "                                      Raw Data  \n",
       "Date                                            \n",
       "02/01  20 00 00 00 2D 68 18 FF 5E 2A 4E 55 4C   \n",
       "02/01  20 00 00 3F D8 B6 10 89 EE 2A 45 4F 4D   "
      ]
     },
     "execution_count": 3,
     "metadata": {},
     "output_type": "execute_result"
    }
   ],
   "source": [
    "\"\"\"\n",
    "타임스탬프 변환 파트\n",
    "\"\"\"\n",
    "\n",
    "def convert_to_datetime(nano_seconds):\n",
    "    \"\"\"\n",
    "    Convert nanoseconds to seconds and then to a datetime object.\n",
    "    \"\"\"\n",
    "    seconds = nano_seconds / 1e9\n",
    "    return datetime.fromtimestamp(seconds)\n",
    "\n",
    "df[\"Datetime\"] = df[\"Timestamp\"].apply(convert_to_datetime)\n",
    "df[\"Timestamp(Convert)\"] = df[\"Datetime\"].apply(lambda x: x.strftime('%H:%M:%S'))\n",
    "df = df[['Time', 'Message Type', 'Timestamp', 'Timestamp(Convert)', 'Event Code', 'Raw Data']]\n",
    "df"
   ]
  },
  {
   "cell_type": "code",
   "execution_count": null,
   "id": "95ab25e4-f10e-4d1e-a24f-e0a1950224ae",
   "metadata": {},
   "outputs": [],
   "source": []
  }
 ],
 "metadata": {
  "kernelspec": {
   "display_name": "Python 3 (ipykernel)",
   "language": "python",
   "name": "python3"
  },
  "language_info": {
   "codemirror_mode": {
    "name": "ipython",
    "version": 3
   },
   "file_extension": ".py",
   "mimetype": "text/x-python",
   "name": "python",
   "nbconvert_exporter": "python",
   "pygments_lexer": "ipython3",
   "version": "3.10.11"
  }
 },
 "nbformat": 4,
 "nbformat_minor": 5
}
